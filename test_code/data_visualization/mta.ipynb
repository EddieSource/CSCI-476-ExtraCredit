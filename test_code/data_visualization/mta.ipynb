{
 "cells": [
  {
   "cell_type": "code",
   "execution_count": 1,
   "id": "271e7abb-f5ab-4c95-974c-5ab98c7ec7d9",
   "metadata": {},
   "outputs": [],
   "source": [
    "import warnings\n",
    "import numpy as np\n",
    "import pandas as pd\n",
    "import matplotlib.pyplot as plt\n",
    "\n",
    "warnings.filterwarnings('ignore')\n",
    "pd.set_option('display.max_columns', None)"
   ]
  },
  {
   "cell_type": "code",
   "execution_count": 2,
   "id": "8c1166b5-0f05-4263-a2e8-5d78c26da308",
   "metadata": {},
   "outputs": [],
   "source": [
    "df = pd.read_csv(\"data/mta.csv\")\n",
    "\n",
    "df.columns = [\"date\", \"new_entries\"]\n",
    "df[\"date\"] = pd.to_datetime(df[\"date\"])\n",
    "df[\"day_of_week\"] = df[\"date\"].dt.dayofweek + 1\n",
    "df[\"week_count\"] = -1"
   ]
  },
  {
   "cell_type": "code",
   "execution_count": 3,
   "id": "b26e8985-52cb-434d-8dc2-00995f094171",
   "metadata": {},
   "outputs": [],
   "source": [
    "week_count = 0\n",
    "\n",
    "for i in range(len(df)):\n",
    "    if df.iloc[i][\"day_of_week\"] == 1:\n",
    "        week_count += 1\n",
    "    df.iloc[i, df.columns.get_loc('week_count')] = week_count"
   ]
  },
  {
   "cell_type": "code",
   "execution_count": 4,
   "id": "208025d5-632a-468f-bc27-e951e775097f",
   "metadata": {},
   "outputs": [
    {
     "data": {
      "text/html": [
       "<div>\n",
       "<style scoped>\n",
       "    .dataframe tbody tr th:only-of-type {\n",
       "        vertical-align: middle;\n",
       "    }\n",
       "\n",
       "    .dataframe tbody tr th {\n",
       "        vertical-align: top;\n",
       "    }\n",
       "\n",
       "    .dataframe thead th {\n",
       "        text-align: right;\n",
       "    }\n",
       "</style>\n",
       "<table border=\"1\" class=\"dataframe\">\n",
       "  <thead>\n",
       "    <tr style=\"text-align: right;\">\n",
       "      <th></th>\n",
       "      <th>date</th>\n",
       "      <th>new_entries</th>\n",
       "      <th>day_of_week</th>\n",
       "      <th>week_count</th>\n",
       "    </tr>\n",
       "  </thead>\n",
       "  <tbody>\n",
       "    <tr>\n",
       "      <th>62</th>\n",
       "      <td>2020-03-01</td>\n",
       "      <td>1450214</td>\n",
       "      <td>7</td>\n",
       "      <td>9</td>\n",
       "    </tr>\n",
       "    <tr>\n",
       "      <th>63</th>\n",
       "      <td>2020-03-02</td>\n",
       "      <td>2917035</td>\n",
       "      <td>1</td>\n",
       "      <td>10</td>\n",
       "    </tr>\n",
       "    <tr>\n",
       "      <th>64</th>\n",
       "      <td>2020-03-03</td>\n",
       "      <td>2957872</td>\n",
       "      <td>2</td>\n",
       "      <td>10</td>\n",
       "    </tr>\n",
       "    <tr>\n",
       "      <th>65</th>\n",
       "      <td>2020-03-04</td>\n",
       "      <td>2953711</td>\n",
       "      <td>3</td>\n",
       "      <td>10</td>\n",
       "    </tr>\n",
       "    <tr>\n",
       "      <th>66</th>\n",
       "      <td>2020-03-05</td>\n",
       "      <td>2952771</td>\n",
       "      <td>4</td>\n",
       "      <td>10</td>\n",
       "    </tr>\n",
       "  </tbody>\n",
       "</table>\n",
       "</div>"
      ],
      "text/plain": [
       "         date  new_entries  day_of_week  week_count\n",
       "62 2020-03-01      1450214            7           9\n",
       "63 2020-03-02      2917035            1          10\n",
       "64 2020-03-03      2957872            2          10\n",
       "65 2020-03-04      2953711            3          10\n",
       "66 2020-03-05      2952771            4          10"
      ]
     },
     "execution_count": 4,
     "metadata": {},
     "output_type": "execute_result"
    }
   ],
   "source": [
    "Q1 = df[\"new_entries\"].quantile(.05)\n",
    "Q3 = df[\"new_entries\"].quantile(.95)\n",
    "IQR = Q3 - Q1\n",
    "\n",
    "lower_bound = Q1 - 1.5 * IQR\n",
    "upper_bound = Q3 + 1.5 * IQR\n",
    "\n",
    "df_sub = df[(df[\"date\"] >= \"2020-03-01\") & (df[\"date\"] <= \"2021-07-31\")]\n",
    "df_sub = df_sub[(df_sub[\"new_entries\"] > 0) & (df_sub[\"new_entries\"] <= upper_bound)]\n",
    "df_sub.head()"
   ]
  },
  {
   "cell_type": "code",
   "execution_count": 5,
   "id": "1fd4f10e-7c81-460c-ad10-0817dde4cb5d",
   "metadata": {},
   "outputs": [],
   "source": [
    "weeks_max = df_sub.groupby(\"week_count\").max(\"new_entries\").reset_index()\n",
    "weeks_min = df_sub.groupby(\"week_count\").min(\"new_entries\").reset_index()"
   ]
  },
  {
   "cell_type": "code",
   "execution_count": 6,
   "id": "8e881d2b-6460-4cff-8b2e-83742205c471",
   "metadata": {},
   "outputs": [
    {
     "name": "stdout",
     "output_type": "stream",
     "text": [
      "Maximum MTA Ridership:\n"
     ]
    },
    {
     "data": {
      "text/plain": [
       "3    21\n",
       "4    20\n",
       "5    16\n",
       "2    13\n",
       "1     4\n",
       "7     1\n",
       "dtype: int64"
      ]
     },
     "execution_count": 6,
     "metadata": {},
     "output_type": "execute_result"
    }
   ],
   "source": [
    "print(\"Maximum MTA Ridership:\")\n",
    "\n",
    "count =  []\n",
    "\n",
    "for i in range(len(weeks_max)):\n",
    "    day_of_week = int(df_sub[(df_sub[\"week_count\"] == int(weeks_max.iloc[i][\"week_count\"])) &\n",
    "                             (df_sub[\"new_entries\"] == int(weeks_max.iloc[i][\"new_entries\"]))][\"day_of_week\"])\n",
    "    count.append(day_of_week)\n",
    "\n",
    "pd.Series(count).value_counts()"
   ]
  },
  {
   "cell_type": "code",
   "execution_count": 7,
   "id": "a9dcb6ee-283e-4aa8-b09c-2e01f74e1908",
   "metadata": {},
   "outputs": [
    {
     "name": "stdout",
     "output_type": "stream",
     "text": [
      "Minimum MTA Ridership:\n"
     ]
    },
    {
     "data": {
      "text/plain": [
       "7    70\n",
       "5     2\n",
       "1     1\n",
       "4     1\n",
       "6     1\n",
       "dtype: int64"
      ]
     },
     "execution_count": 7,
     "metadata": {},
     "output_type": "execute_result"
    }
   ],
   "source": [
    "print(\"Minimum MTA Ridership:\")\n",
    "\n",
    "count =  []\n",
    "\n",
    "for i in range(len(weeks_min)):\n",
    "    day_of_week = int(df_sub[(df_sub[\"week_count\"] == int(weeks_min.iloc[i][\"week_count\"])) &\n",
    "                             (df_sub[\"new_entries\"] == int(weeks_min.iloc[i][\"new_entries\"]))][\"day_of_week\"])\n",
    "    count.append(day_of_week)\n",
    "\n",
    "pd.Series(count).value_counts()"
   ]
  },
  {
   "cell_type": "code",
   "execution_count": 8,
   "id": "9cd11a34-72e1-43cf-846b-44cc9c4ea0a7",
   "metadata": {},
   "outputs": [
    {
     "data": {
      "image/png": "[encoded data removed]",
      "text/plain": [
       "<Figure size 1152x576 with 1 Axes>"
      ]
     },
     "metadata": {
      "needs_background": "light"
     },
     "output_type": "display_data"
    }
   ],
   "source": [
    "x = df_sub[\"date\"].to_list()\n",
    "y = df_sub[\"new_entries\"].to_list()\n",
    "\n",
    "fig, ax = plt.subplots()\n",
    "plt.xticks(rotation=45)\n",
    "plt.title(\"MTA Ridership Per Day\")\n",
    "fig.set_size_inches(16, 8)\n",
    "ax.plot(x, y, 'o')\n",
    "plt.show()"
   ]
  }
 ],
 "metadata": {
  "kernelspec": {
   "display_name": "Python 3",
   "language": "python",
   "name": "python3"
  },
  "language_info": {
   "codemirror_mode": {
    "name": "ipython",
    "version": 3
   },
   "file_extension": ".py",
   "mimetype": "text/x-python",
   "name": "python",
   "nbconvert_exporter": "python",
   "pygments_lexer": "ipython3",
   "version": "3.8.8"
  }
 },
 "nbformat": 4,
 "nbformat_minor": 5
}
