{
 "cells": [
  {
   "cell_type": "code",
   "execution_count": 1,
   "id": "77a35e8d-1f68-4607-844d-4b57aebe8b29",
   "metadata": {},
   "outputs": [],
   "source": [
    "import warnings\n",
    "import numpy as np\n",
    "import pandas as pd\n",
    "import matplotlib.pyplot as plt\n",
    "\n",
    "warnings.filterwarnings('ignore')\n",
    "pd.set_option('display.max_columns', None)"
   ]
  },
  {
   "cell_type": "code",
   "execution_count": 2,
   "id": "87964754-8946-4b19-9251-9c8fed79ea84",
   "metadata": {},
   "outputs": [],
   "source": [
    "df = pd.read_csv(\"data/covid_grouped.csv\")\n",
    "\n",
    "df[\"date\"] = pd.to_datetime(df[\"date\"])\n",
    "df[\"day_of_week\"] = df[\"date\"].dt.dayofweek + 1\n",
    "df[\"week_count\"] = -1\n",
    "\n",
    "df[\"new_count\"] = df[\"new_count\"].astype(int)\n",
    "\n",
    "df = df[(df[\"date\"] >= \"2020-03-01\") & (df[\"date\"] <= \"2021-07-31\")]"
   ]
  },
  {
   "cell_type": "code",
   "execution_count": 3,
   "id": "3add415c-613c-43dc-816f-c725d36ceb92",
   "metadata": {},
   "outputs": [],
   "source": [
    "week_count = 0\n",
    "\n",
    "for i in range(len(df)):\n",
    "    if df.iloc[i][\"day_of_week\"] == 1:\n",
    "        week_count += 1\n",
    "    df.iloc[i, df.columns.get_loc('week_count')] = week_count"
   ]
  },
  {
   "cell_type": "code",
   "execution_count": 4,
   "id": "ec6cf384-9fb0-48b6-b51a-f97b1e49edd3",
   "metadata": {},
   "outputs": [
    {
     "data": {
      "text/html": [
       "<div>\n",
       "<style scoped>\n",
       "    .dataframe tbody tr th:only-of-type {\n",
       "        vertical-align: middle;\n",
       "    }\n",
       "\n",
       "    .dataframe tbody tr th {\n",
       "        vertical-align: top;\n",
       "    }\n",
       "\n",
       "    .dataframe thead th {\n",
       "        text-align: right;\n",
       "    }\n",
       "</style>\n",
       "<table border=\"1\" class=\"dataframe\">\n",
       "  <thead>\n",
       "    <tr style=\"text-align: right;\">\n",
       "      <th></th>\n",
       "      <th>date</th>\n",
       "      <th>new_count</th>\n",
       "      <th>day_of_week</th>\n",
       "      <th>week_count</th>\n",
       "    </tr>\n",
       "  </thead>\n",
       "  <tbody>\n",
       "    <tr>\n",
       "      <th>0</th>\n",
       "      <td>2020-03-01</td>\n",
       "      <td>0</td>\n",
       "      <td>7</td>\n",
       "      <td>0</td>\n",
       "    </tr>\n",
       "    <tr>\n",
       "      <th>1</th>\n",
       "      <td>2020-03-02</td>\n",
       "      <td>0</td>\n",
       "      <td>1</td>\n",
       "      <td>1</td>\n",
       "    </tr>\n",
       "    <tr>\n",
       "      <th>2</th>\n",
       "      <td>2020-03-03</td>\n",
       "      <td>0</td>\n",
       "      <td>2</td>\n",
       "      <td>1</td>\n",
       "    </tr>\n",
       "    <tr>\n",
       "      <th>3</th>\n",
       "      <td>2020-03-04</td>\n",
       "      <td>1</td>\n",
       "      <td>3</td>\n",
       "      <td>1</td>\n",
       "    </tr>\n",
       "    <tr>\n",
       "      <th>4</th>\n",
       "      <td>2020-03-05</td>\n",
       "      <td>1</td>\n",
       "      <td>4</td>\n",
       "      <td>1</td>\n",
       "    </tr>\n",
       "    <tr>\n",
       "      <th>5</th>\n",
       "      <td>2020-03-06</td>\n",
       "      <td>3</td>\n",
       "      <td>5</td>\n",
       "      <td>1</td>\n",
       "    </tr>\n",
       "    <tr>\n",
       "      <th>6</th>\n",
       "      <td>2020-03-07</td>\n",
       "      <td>0</td>\n",
       "      <td>6</td>\n",
       "      <td>1</td>\n",
       "    </tr>\n",
       "    <tr>\n",
       "      <th>7</th>\n",
       "      <td>2020-03-08</td>\n",
       "      <td>0</td>\n",
       "      <td>7</td>\n",
       "      <td>1</td>\n",
       "    </tr>\n",
       "    <tr>\n",
       "      <th>8</th>\n",
       "      <td>2020-03-09</td>\n",
       "      <td>7</td>\n",
       "      <td>1</td>\n",
       "      <td>2</td>\n",
       "    </tr>\n",
       "    <tr>\n",
       "      <th>9</th>\n",
       "      <td>2020-03-10</td>\n",
       "      <td>12</td>\n",
       "      <td>2</td>\n",
       "      <td>2</td>\n",
       "    </tr>\n",
       "  </tbody>\n",
       "</table>\n",
       "</div>"
      ],
      "text/plain": [
       "        date  new_count  day_of_week  week_count\n",
       "0 2020-03-01          0            7           0\n",
       "1 2020-03-02          0            1           1\n",
       "2 2020-03-03          0            2           1\n",
       "3 2020-03-04          1            3           1\n",
       "4 2020-03-05          1            4           1\n",
       "5 2020-03-06          3            5           1\n",
       "6 2020-03-07          0            6           1\n",
       "7 2020-03-08          0            7           1\n",
       "8 2020-03-09          7            1           2\n",
       "9 2020-03-10         12            2           2"
      ]
     },
     "execution_count": 4,
     "metadata": {},
     "output_type": "execute_result"
    }
   ],
   "source": [
    "df.head(10)"
   ]
  },
  {
   "cell_type": "code",
   "execution_count": 5,
   "id": "02865d53-cfda-4181-8b99-767efd6074ba",
   "metadata": {},
   "outputs": [
    {
     "data": {
      "text/html": [
       "<div>\n",
       "<style scoped>\n",
       "    .dataframe tbody tr th:only-of-type {\n",
       "        vertical-align: middle;\n",
       "    }\n",
       "\n",
       "    .dataframe tbody tr th {\n",
       "        vertical-align: top;\n",
       "    }\n",
       "\n",
       "    .dataframe thead th {\n",
       "        text-align: right;\n",
       "    }\n",
       "</style>\n",
       "<table border=\"1\" class=\"dataframe\">\n",
       "  <thead>\n",
       "    <tr style=\"text-align: right;\">\n",
       "      <th></th>\n",
       "      <th>date</th>\n",
       "      <th>new_count</th>\n",
       "      <th>day_of_week</th>\n",
       "      <th>week_count</th>\n",
       "    </tr>\n",
       "  </thead>\n",
       "  <tbody>\n",
       "    <tr>\n",
       "      <th>506</th>\n",
       "      <td>2021-07-22</td>\n",
       "      <td>233</td>\n",
       "      <td>4</td>\n",
       "      <td>73</td>\n",
       "    </tr>\n",
       "    <tr>\n",
       "      <th>507</th>\n",
       "      <td>2021-07-23</td>\n",
       "      <td>279</td>\n",
       "      <td>5</td>\n",
       "      <td>73</td>\n",
       "    </tr>\n",
       "    <tr>\n",
       "      <th>508</th>\n",
       "      <td>2021-07-24</td>\n",
       "      <td>214</td>\n",
       "      <td>6</td>\n",
       "      <td>73</td>\n",
       "    </tr>\n",
       "    <tr>\n",
       "      <th>509</th>\n",
       "      <td>2021-07-25</td>\n",
       "      <td>177</td>\n",
       "      <td>7</td>\n",
       "      <td>73</td>\n",
       "    </tr>\n",
       "    <tr>\n",
       "      <th>510</th>\n",
       "      <td>2021-07-26</td>\n",
       "      <td>178</td>\n",
       "      <td>1</td>\n",
       "      <td>74</td>\n",
       "    </tr>\n",
       "    <tr>\n",
       "      <th>511</th>\n",
       "      <td>2021-07-27</td>\n",
       "      <td>253</td>\n",
       "      <td>2</td>\n",
       "      <td>74</td>\n",
       "    </tr>\n",
       "    <tr>\n",
       "      <th>512</th>\n",
       "      <td>2021-07-28</td>\n",
       "      <td>286</td>\n",
       "      <td>3</td>\n",
       "      <td>74</td>\n",
       "    </tr>\n",
       "    <tr>\n",
       "      <th>513</th>\n",
       "      <td>2021-07-29</td>\n",
       "      <td>269</td>\n",
       "      <td>4</td>\n",
       "      <td>74</td>\n",
       "    </tr>\n",
       "    <tr>\n",
       "      <th>514</th>\n",
       "      <td>2021-07-30</td>\n",
       "      <td>332</td>\n",
       "      <td>5</td>\n",
       "      <td>74</td>\n",
       "    </tr>\n",
       "    <tr>\n",
       "      <th>515</th>\n",
       "      <td>2021-07-31</td>\n",
       "      <td>256</td>\n",
       "      <td>6</td>\n",
       "      <td>74</td>\n",
       "    </tr>\n",
       "  </tbody>\n",
       "</table>\n",
       "</div>"
      ],
      "text/plain": [
       "          date  new_count  day_of_week  week_count\n",
       "506 2021-07-22        233            4          73\n",
       "507 2021-07-23        279            5          73\n",
       "508 2021-07-24        214            6          73\n",
       "509 2021-07-25        177            7          73\n",
       "510 2021-07-26        178            1          74\n",
       "511 2021-07-27        253            2          74\n",
       "512 2021-07-28        286            3          74\n",
       "513 2021-07-29        269            4          74\n",
       "514 2021-07-30        332            5          74\n",
       "515 2021-07-31        256            6          74"
      ]
     },
     "execution_count": 5,
     "metadata": {},
     "output_type": "execute_result"
    }
   ],
   "source": [
    "df.tail(10)"
   ]
  },
  {
   "cell_type": "code",
   "execution_count": 6,
   "id": "d6b42af3-94f1-4804-a2ba-4f5372aea091",
   "metadata": {},
   "outputs": [],
   "source": [
    "weeks_max = df.groupby(\"week_count\").max(\"new_count\").reset_index()\n",
    "weeks_min = df.groupby(\"week_count\").min(\"new_count\").reset_index()"
   ]
  },
  {
   "cell_type": "code",
   "execution_count": 7,
   "id": "b4666240-543f-4a93-8656-b98f973e9fbb",
   "metadata": {},
   "outputs": [
    {
     "name": "stdout",
     "output_type": "stream",
     "text": [
      "Maximum COVID-19 Cases:\n"
     ]
    },
    {
     "data": {
      "text/plain": [
       "5    26\n",
       "4    20\n",
       "3    16\n",
       "6     6\n",
       "7     3\n",
       "1     2\n",
       "2     2\n",
       "dtype: int64"
      ]
     },
     "execution_count": 7,
     "metadata": {},
     "output_type": "execute_result"
    }
   ],
   "source": [
    "print(\"Maximum COVID-19 Cases:\")\n",
    "\n",
    "count =  []\n",
    "\n",
    "for i in range(len(weeks_max)):\n",
    "    day_of_week = int(df[(df[\"week_count\"] == int(weeks_max.iloc[i][\"week_count\"])) &\n",
    "                         (df[\"new_count\"] == int(weeks_max.iloc[i][\"new_count\"]))].iloc[0][\"day_of_week\"])\n",
    "    count.append(day_of_week)\n",
    "\n",
    "pd.Series(count).value_counts()"
   ]
  },
  {
   "cell_type": "code",
   "execution_count": 8,
   "id": "8a338401-0490-4f36-8065-b0a292605137",
   "metadata": {},
   "outputs": [
    {
     "name": "stdout",
     "output_type": "stream",
     "text": [
      "Minimum COVID-19 Cases:\n"
     ]
    },
    {
     "data": {
      "text/plain": [
       "7    30\n",
       "1    24\n",
       "2    10\n",
       "6     7\n",
       "3     3\n",
       "5     1\n",
       "dtype: int64"
      ]
     },
     "execution_count": 8,
     "metadata": {},
     "output_type": "execute_result"
    }
   ],
   "source": [
    "print(\"Minimum COVID-19 Cases:\")\n",
    "\n",
    "count =  []\n",
    "\n",
    "for i in range(len(weeks_min)):\n",
    "    day_of_week = int(df[(df[\"week_count\"] == int(weeks_min.iloc[i][\"week_count\"])) &\n",
    "                         (df[\"new_count\"] == int(weeks_min.iloc[i][\"new_count\"]))].iloc[0][\"day_of_week\"])\n",
    "    count.append(day_of_week)\n",
    "\n",
    "pd.Series(count).value_counts()"
   ]
  },
  {
   "cell_type": "code",
   "execution_count": 9,
   "id": "d4bce870-c266-43a3-a0c3-48bc0ce2373f",
   "metadata": {},
   "outputs": [
    {
     "data": {
      "image/png": "[encoded data removed]",
      "text/plain": [
       "<Figure size 432x288 with 1 Axes>"
      ]
     },
     "metadata": {
      "needs_background": "light"
     },
     "output_type": "display_data"
    }
   ],
   "source": [
    "x = df[\"date\"].to_list()\n",
    "y = df[\"new_count\"].to_list()\n",
    "\n",
    "fig, ax = plt.subplots()\n",
    "\n",
    "plt.title(\"Number of New COVID-19 Cases Per Day\")\n",
    "plt.xticks(rotation=45)\n",
    "\n",
    "ax.plot(x, y, 'o')\n",
    "\n",
    "plt.show()"
   ]
  }
 ],
 "metadata": {
  "kernelspec": {
   "display_name": "Python 3",
   "language": "python",
   "name": "python3"
  },
  "language_info": {
   "codemirror_mode": {
    "name": "ipython",
    "version": 3
   },
   "file_extension": ".py",
   "mimetype": "text/x-python",
   "name": "python",
   "nbconvert_exporter": "python",
   "pygments_lexer": "ipython3",
   "version": "3.8.8"
  }
 },
 "nbformat": 4,
 "nbformat_minor": 5
}
