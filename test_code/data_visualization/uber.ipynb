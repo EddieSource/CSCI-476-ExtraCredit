{
 "cells": [
  {
   "cell_type": "code",
   "execution_count": 1,
   "id": "77a35e8d-1f68-4607-844d-4b57aebe8b29",
   "metadata": {},
   "outputs": [],
   "source": [
    "import warnings\n",
    "import numpy as np\n",
    "import pandas as pd\n",
    "import matplotlib.pyplot as plt\n",
    "\n",
    "warnings.filterwarnings('ignore')\n",
    "pd.set_option('display.max_columns', None)"
   ]
  },
  {
   "cell_type": "code",
   "execution_count": 2,
   "id": "87964754-8946-4b19-9251-9c8fed79ea84",
   "metadata": {},
   "outputs": [],
   "source": [
    "df = pd.read_csv(\"data/date-trips.csv\", header=None)\n",
    "df.columns = [\"date\", \"rides_count\"]\n",
    "\n",
    "df[\"date\"] = df[\"date\"].str.replace('\\t', '')\n",
    "df[\"date\"] = pd.to_datetime(df[\"date\"])\n",
    "df[\"day_of_week\"] = df[\"date\"].dt.dayofweek + 1\n",
    "df[\"week_count\"] = -1\n",
    "df[\"rides_count\"] = df[\"rides_count\"].astype(int)"
   ]
  },
  {
   "cell_type": "code",
   "execution_count": 3,
   "id": "b938d8da-2335-4aa9-8969-86acc8287f51",
   "metadata": {},
   "outputs": [],
   "source": [
    "week_count = 0\n",
    "\n",
    "for i in range(len(df)):\n",
    "    if df.iloc[i][\"day_of_week\"] == 1:\n",
    "        week_count += 1\n",
    "    df.iloc[i, df.columns.get_loc('week_count')] = week_count"
   ]
  },
  {
   "cell_type": "code",
   "execution_count": 4,
   "id": "ee185736-ab81-467c-ab27-50286a55448e",
   "metadata": {},
   "outputs": [],
   "source": [
    "df = df[(df[\"date\"] >= \"2020-09-01\") & (df[\"date\"] <= \"2020-11-01\")]"
   ]
  },
  {
   "cell_type": "code",
   "execution_count": 5,
   "id": "ec6cf384-9fb0-48b6-b51a-f97b1e49edd3",
   "metadata": {},
   "outputs": [
    {
     "data": {
      "text/html": [
       "<div>\n",
       "<style scoped>\n",
       "    .dataframe tbody tr th:only-of-type {\n",
       "        vertical-align: middle;\n",
       "    }\n",
       "\n",
       "    .dataframe tbody tr th {\n",
       "        vertical-align: top;\n",
       "    }\n",
       "\n",
       "    .dataframe thead th {\n",
       "        text-align: right;\n",
       "    }\n",
       "</style>\n",
       "<table border=\"1\" class=\"dataframe\">\n",
       "  <thead>\n",
       "    <tr style=\"text-align: right;\">\n",
       "      <th></th>\n",
       "      <th>date</th>\n",
       "      <th>rides_count</th>\n",
       "      <th>day_of_week</th>\n",
       "      <th>week_count</th>\n",
       "    </tr>\n",
       "  </thead>\n",
       "  <tbody>\n",
       "    <tr>\n",
       "      <th>184</th>\n",
       "      <td>2020-09-01</td>\n",
       "      <td>45306</td>\n",
       "      <td>2</td>\n",
       "      <td>27</td>\n",
       "    </tr>\n",
       "    <tr>\n",
       "      <th>185</th>\n",
       "      <td>2020-09-02</td>\n",
       "      <td>46266</td>\n",
       "      <td>3</td>\n",
       "      <td>27</td>\n",
       "    </tr>\n",
       "    <tr>\n",
       "      <th>186</th>\n",
       "      <td>2020-09-03</td>\n",
       "      <td>47681</td>\n",
       "      <td>4</td>\n",
       "      <td>27</td>\n",
       "    </tr>\n",
       "    <tr>\n",
       "      <th>187</th>\n",
       "      <td>2020-09-04</td>\n",
       "      <td>47145</td>\n",
       "      <td>5</td>\n",
       "      <td>27</td>\n",
       "    </tr>\n",
       "    <tr>\n",
       "      <th>188</th>\n",
       "      <td>2020-09-05</td>\n",
       "      <td>35261</td>\n",
       "      <td>6</td>\n",
       "      <td>27</td>\n",
       "    </tr>\n",
       "    <tr>\n",
       "      <th>189</th>\n",
       "      <td>2020-09-06</td>\n",
       "      <td>29148</td>\n",
       "      <td>7</td>\n",
       "      <td>27</td>\n",
       "    </tr>\n",
       "    <tr>\n",
       "      <th>190</th>\n",
       "      <td>2020-09-07</td>\n",
       "      <td>29407</td>\n",
       "      <td>1</td>\n",
       "      <td>28</td>\n",
       "    </tr>\n",
       "    <tr>\n",
       "      <th>191</th>\n",
       "      <td>2020-09-08</td>\n",
       "      <td>47028</td>\n",
       "      <td>2</td>\n",
       "      <td>28</td>\n",
       "    </tr>\n",
       "    <tr>\n",
       "      <th>192</th>\n",
       "      <td>2020-09-09</td>\n",
       "      <td>47116</td>\n",
       "      <td>3</td>\n",
       "      <td>28</td>\n",
       "    </tr>\n",
       "    <tr>\n",
       "      <th>193</th>\n",
       "      <td>2020-09-10</td>\n",
       "      <td>48057</td>\n",
       "      <td>4</td>\n",
       "      <td>28</td>\n",
       "    </tr>\n",
       "  </tbody>\n",
       "</table>\n",
       "</div>"
      ],
      "text/plain": [
       "          date  rides_count  day_of_week  week_count\n",
       "184 2020-09-01        45306            2          27\n",
       "185 2020-09-02        46266            3          27\n",
       "186 2020-09-03        47681            4          27\n",
       "187 2020-09-04        47145            5          27\n",
       "188 2020-09-05        35261            6          27\n",
       "189 2020-09-06        29148            7          27\n",
       "190 2020-09-07        29407            1          28\n",
       "191 2020-09-08        47028            2          28\n",
       "192 2020-09-09        47116            3          28\n",
       "193 2020-09-10        48057            4          28"
      ]
     },
     "execution_count": 5,
     "metadata": {},
     "output_type": "execute_result"
    }
   ],
   "source": [
    "df.sort_values(\"date\").head(10)"
   ]
  },
  {
   "cell_type": "code",
   "execution_count": 6,
   "id": "02865d53-cfda-4181-8b99-767efd6074ba",
   "metadata": {},
   "outputs": [
    {
     "data": {
      "text/html": [
       "<div>\n",
       "<style scoped>\n",
       "    .dataframe tbody tr th:only-of-type {\n",
       "        vertical-align: middle;\n",
       "    }\n",
       "\n",
       "    .dataframe tbody tr th {\n",
       "        vertical-align: top;\n",
       "    }\n",
       "\n",
       "    .dataframe thead th {\n",
       "        text-align: right;\n",
       "    }\n",
       "</style>\n",
       "<table border=\"1\" class=\"dataframe\">\n",
       "  <thead>\n",
       "    <tr style=\"text-align: right;\">\n",
       "      <th></th>\n",
       "      <th>date</th>\n",
       "      <th>rides_count</th>\n",
       "      <th>day_of_week</th>\n",
       "      <th>week_count</th>\n",
       "    </tr>\n",
       "  </thead>\n",
       "  <tbody>\n",
       "    <tr>\n",
       "      <th>236</th>\n",
       "      <td>2020-10-23</td>\n",
       "      <td>44421</td>\n",
       "      <td>5</td>\n",
       "      <td>34</td>\n",
       "    </tr>\n",
       "    <tr>\n",
       "      <th>237</th>\n",
       "      <td>2020-10-24</td>\n",
       "      <td>33462</td>\n",
       "      <td>6</td>\n",
       "      <td>34</td>\n",
       "    </tr>\n",
       "    <tr>\n",
       "      <th>238</th>\n",
       "      <td>2020-10-25</td>\n",
       "      <td>27628</td>\n",
       "      <td>7</td>\n",
       "      <td>34</td>\n",
       "    </tr>\n",
       "    <tr>\n",
       "      <th>239</th>\n",
       "      <td>2020-10-26</td>\n",
       "      <td>43367</td>\n",
       "      <td>1</td>\n",
       "      <td>35</td>\n",
       "    </tr>\n",
       "    <tr>\n",
       "      <th>240</th>\n",
       "      <td>2020-10-27</td>\n",
       "      <td>42829</td>\n",
       "      <td>2</td>\n",
       "      <td>35</td>\n",
       "    </tr>\n",
       "    <tr>\n",
       "      <th>241</th>\n",
       "      <td>2020-10-28</td>\n",
       "      <td>44223</td>\n",
       "      <td>3</td>\n",
       "      <td>35</td>\n",
       "    </tr>\n",
       "    <tr>\n",
       "      <th>242</th>\n",
       "      <td>2020-10-29</td>\n",
       "      <td>45993</td>\n",
       "      <td>4</td>\n",
       "      <td>35</td>\n",
       "    </tr>\n",
       "    <tr>\n",
       "      <th>243</th>\n",
       "      <td>2020-10-30</td>\n",
       "      <td>47315</td>\n",
       "      <td>5</td>\n",
       "      <td>35</td>\n",
       "    </tr>\n",
       "    <tr>\n",
       "      <th>244</th>\n",
       "      <td>2020-10-31</td>\n",
       "      <td>35037</td>\n",
       "      <td>6</td>\n",
       "      <td>35</td>\n",
       "    </tr>\n",
       "    <tr>\n",
       "      <th>245</th>\n",
       "      <td>2020-11-01</td>\n",
       "      <td>30395</td>\n",
       "      <td>7</td>\n",
       "      <td>35</td>\n",
       "    </tr>\n",
       "  </tbody>\n",
       "</table>\n",
       "</div>"
      ],
      "text/plain": [
       "          date  rides_count  day_of_week  week_count\n",
       "236 2020-10-23        44421            5          34\n",
       "237 2020-10-24        33462            6          34\n",
       "238 2020-10-25        27628            7          34\n",
       "239 2020-10-26        43367            1          35\n",
       "240 2020-10-27        42829            2          35\n",
       "241 2020-10-28        44223            3          35\n",
       "242 2020-10-29        45993            4          35\n",
       "243 2020-10-30        47315            5          35\n",
       "244 2020-10-31        35037            6          35\n",
       "245 2020-11-01        30395            7          35"
      ]
     },
     "execution_count": 6,
     "metadata": {},
     "output_type": "execute_result"
    }
   ],
   "source": [
    "df.sort_values(\"date\").tail(10)"
   ]
  },
  {
   "cell_type": "code",
   "execution_count": 7,
   "id": "10a1d053-26a2-4ff8-9017-de704072f8ff",
   "metadata": {},
   "outputs": [],
   "source": [
    "weeks_max = df.groupby(\"week_count\").max(\"rides_count\").reset_index()\n",
    "weeks_min = df.groupby(\"week_count\").min(\"rides_count\").reset_index()"
   ]
  },
  {
   "cell_type": "code",
   "execution_count": 8,
   "id": "aae4d5cb-e0db-454a-ba5c-33f20424cb31",
   "metadata": {},
   "outputs": [
    {
     "name": "stdout",
     "output_type": "stream",
     "text": [
      "Maximum FHV Ridership:\n"
     ]
    },
    {
     "data": {
      "text/plain": [
       "5    6\n",
       "4    2\n",
       "2    1\n",
       "dtype: int64"
      ]
     },
     "execution_count": 8,
     "metadata": {},
     "output_type": "execute_result"
    }
   ],
   "source": [
    "print(\"Maximum FHV Ridership:\")\n",
    "\n",
    "count =  []\n",
    "\n",
    "for i in range(len(weeks_max)):\n",
    "    day_of_week = int(df[(df[\"week_count\"] == int(weeks_max.iloc[i][\"week_count\"])) &\n",
    "                         (df[\"rides_count\"] == int(weeks_max.iloc[i][\"rides_count\"]))][\"day_of_week\"])\n",
    "    count.append(day_of_week)\n",
    "\n",
    "pd.Series(count).value_counts()"
   ]
  },
  {
   "cell_type": "code",
   "execution_count": 9,
   "id": "78f81dc0-7002-4468-87d6-27d65cd638d4",
   "metadata": {},
   "outputs": [
    {
     "name": "stdout",
     "output_type": "stream",
     "text": [
      "Minimum FHV Ridership:\n"
     ]
    },
    {
     "data": {
      "text/plain": [
       "7    9\n",
       "dtype: int64"
      ]
     },
     "execution_count": 9,
     "metadata": {},
     "output_type": "execute_result"
    }
   ],
   "source": [
    "print(\"Minimum FHV Ridership:\")\n",
    "\n",
    "count =  []\n",
    "\n",
    "for i in range(len(weeks_min)):\n",
    "    day_of_week = int(df[(df[\"week_count\"] == int(weeks_min.iloc[i][\"week_count\"])) &\n",
    "                         (df[\"rides_count\"] == int(weeks_min.iloc[i][\"rides_count\"]))][\"day_of_week\"])\n",
    "    count.append(day_of_week)\n",
    "\n",
    "pd.Series(count).value_counts()"
   ]
  },
  {
   "cell_type": "code",
   "execution_count": 10,
   "id": "d4bce870-c266-43a3-a0c3-48bc0ce2373f",
   "metadata": {},
   "outputs": [
    {
     "data": {
      "image/png": "[encoded data removed]",
      "text/plain": [
       "<Figure size 1152x576 with 1 Axes>"
      ]
     },
     "metadata": {
      "needs_background": "light"
     },
     "output_type": "display_data"
    }
   ],
   "source": [
    "x = df[\"date\"].to_list()\n",
    "y = df[\"rides_count\"].to_list()\n",
    "\n",
    "fig, ax = plt.subplots()\n",
    "plt.xticks(rotation=45)\n",
    "plt.title(\"FHV Ridership Per Day\")\n",
    "fig.set_size_inches(16, 8)\n",
    "ax.plot(x, y, 'o')\n",
    "plt.show()"
   ]
  },
  {
   "cell_type": "code",
   "execution_count": null,
   "id": "bbfe3c47-9e0f-4132-b768-e8300e702b9d",
   "metadata": {},
   "outputs": [],
   "source": []
  }
 ],
 "metadata": {
  "kernelspec": {
   "display_name": "Python 3",
   "language": "python",
   "name": "python3"
  },
  "language_info": {
   "codemirror_mode": {
    "name": "ipython",
    "version": 3
   },
   "file_extension": ".py",
   "mimetype": "text/x-python",
   "name": "python",
   "nbconvert_exporter": "python",
   "pygments_lexer": "ipython3",
   "version": "3.8.8"
  }
 },
 "nbformat": 4,
 "nbformat_minor": 5
}
