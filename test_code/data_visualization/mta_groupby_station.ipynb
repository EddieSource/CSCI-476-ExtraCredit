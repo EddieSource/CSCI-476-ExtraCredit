{
 "cells": [
  {
   "cell_type": "code",
   "execution_count": 1,
   "id": "271e7abb-f5ab-4c95-974c-5ab98c7ec7d9",
   "metadata": {},
   "outputs": [],
   "source": [
    "import warnings\n",
    "import numpy as np\n",
    "import pandas as pd\n",
    "import matplotlib.pyplot as plt\n",
    "\n",
    "warnings.filterwarnings('ignore')\n",
    "pd.set_option('display.max_columns', None)"
   ]
  },
  {
   "cell_type": "code",
   "execution_count": 5,
   "id": "8c1166b5-0f05-4263-a2e8-5d78c26da308",
   "metadata": {},
   "outputs": [],
   "source": [
    "df = pd.read_csv(\"data/by_station_daily_new/turnstile_group_by_station_daily_new.csv\")\n",
    "\n",
    "df.columns = [\"station_name\", \"date\", \"new_entries\"]\n",
    "df[\"date\"] = pd.to_datetime(df[\"date\"])"
   ]
  },
  {
   "cell_type": "code",
   "execution_count": 4,
   "id": "208025d5-632a-468f-bc27-e951e775097f",
   "metadata": {},
   "outputs": [
    {
     "data": {
      "text/html": [
       "<div>\n",
       "<style scoped>\n",
       "    .dataframe tbody tr th:only-of-type {\n",
       "        vertical-align: middle;\n",
       "    }\n",
       "\n",
       "    .dataframe tbody tr th {\n",
       "        vertical-align: top;\n",
       "    }\n",
       "\n",
       "    .dataframe thead th {\n",
       "        text-align: right;\n",
       "    }\n",
       "</style>\n",
       "<table border=\"1\" class=\"dataframe\">\n",
       "  <thead>\n",
       "    <tr style=\"text-align: right;\">\n",
       "      <th></th>\n",
       "      <th>station_name</th>\n",
       "      <th>date</th>\n",
       "      <th>new_entries</th>\n",
       "    </tr>\n",
       "  </thead>\n",
       "  <tbody>\n",
       "    <tr>\n",
       "      <th>0</th>\n",
       "      <td>1 AV</td>\n",
       "      <td>2019-12-29</td>\n",
       "      <td>5022.0</td>\n",
       "    </tr>\n",
       "    <tr>\n",
       "      <th>1</th>\n",
       "      <td>1 AV</td>\n",
       "      <td>2019-12-30</td>\n",
       "      <td>12717.0</td>\n",
       "    </tr>\n",
       "    <tr>\n",
       "      <th>2</th>\n",
       "      <td>1 AV</td>\n",
       "      <td>2019-12-31</td>\n",
       "      <td>13402.0</td>\n",
       "    </tr>\n",
       "    <tr>\n",
       "      <th>3</th>\n",
       "      <td>1 AV</td>\n",
       "      <td>2020-01-01</td>\n",
       "      <td>7253.0</td>\n",
       "    </tr>\n",
       "    <tr>\n",
       "      <th>4</th>\n",
       "      <td>1 AV</td>\n",
       "      <td>2020-01-02</td>\n",
       "      <td>15443.0</td>\n",
       "    </tr>\n",
       "    <tr>\n",
       "      <th>5</th>\n",
       "      <td>1 AV</td>\n",
       "      <td>2020-01-03</td>\n",
       "      <td>16168.0</td>\n",
       "    </tr>\n",
       "    <tr>\n",
       "      <th>6</th>\n",
       "      <td>1 AV</td>\n",
       "      <td>2020-01-04</td>\n",
       "      <td>6930.0</td>\n",
       "    </tr>\n",
       "    <tr>\n",
       "      <th>7</th>\n",
       "      <td>1 AV</td>\n",
       "      <td>2020-01-05</td>\n",
       "      <td>5586.0</td>\n",
       "    </tr>\n",
       "    <tr>\n",
       "      <th>8</th>\n",
       "      <td>1 AV</td>\n",
       "      <td>2020-01-06</td>\n",
       "      <td>16560.0</td>\n",
       "    </tr>\n",
       "    <tr>\n",
       "      <th>9</th>\n",
       "      <td>1 AV</td>\n",
       "      <td>2020-01-07</td>\n",
       "      <td>17060.0</td>\n",
       "    </tr>\n",
       "  </tbody>\n",
       "</table>\n",
       "</div>"
      ],
      "text/plain": [
       "  station_name       date  new_entries\n",
       "0         1 AV 2019-12-29       5022.0\n",
       "1         1 AV 2019-12-30      12717.0\n",
       "2         1 AV 2019-12-31      13402.0\n",
       "3         1 AV 2020-01-01       7253.0\n",
       "4         1 AV 2020-01-02      15443.0\n",
       "5         1 AV 2020-01-03      16168.0\n",
       "6         1 AV 2020-01-04       6930.0\n",
       "7         1 AV 2020-01-05       5586.0\n",
       "8         1 AV 2020-01-06      16560.0\n",
       "9         1 AV 2020-01-07      17060.0"
      ]
     },
     "execution_count": 4,
     "metadata": {},
     "output_type": "execute_result"
    }
   ],
   "source": [
    "Q1 = df[\"new_entries\"].quantile(.05)\n",
    "Q3 = df[\"new_entries\"].quantile(.95)\n",
    "IQR = Q3 - Q1\n",
    "\n",
    "lower_bound = Q1 - 1.5 * IQR\n",
    "upper_bound = Q3 + 1.5 * IQR\n",
    "\n",
    "df_sub = df[(df[\"date\"] >= \"2019-03-01\") & (df[\"date\"] <= \"2021-12-01\")]\n",
    "df_sub = df_sub[(df_sub[\"new_entries\"] > 0) & (df_sub[\"new_entries\"] <= upper_bound)]\n",
    "\n",
    "df_sub.head(10)"
   ]
  },
  {
   "cell_type": "code",
   "execution_count": 14,
   "id": "0192c443-71ad-4b58-ab1d-285fe574ccae",
   "metadata": {},
   "outputs": [
    {
     "data": {
      "text/plain": [
       "22800.636363636364"
      ]
     },
     "execution_count": 14,
     "metadata": {},
     "output_type": "execute_result"
    }
   ],
   "source": [
    "df_sub[(df_sub[\"date\"] >= \"2020-01-01\") & (df_sub[\"date\"] <= \"2020-01-31\") & (df_sub[\"station_name\"] == \"72 ST\")][\"new_entries\"].mean()"
   ]
  },
  {
   "cell_type": "code",
   "execution_count": 15,
   "id": "6fba1538-8f6a-42f5-b11f-6c43fd3e894c",
   "metadata": {},
   "outputs": [
    {
     "data": {
      "text/plain": [
       "7681.193548387097"
      ]
     },
     "execution_count": 15,
     "metadata": {},
     "output_type": "execute_result"
    }
   ],
   "source": [
    "df_sub[(df_sub[\"date\"] >= \"2021-01-01\") & (df_sub[\"date\"] <= \"2021-01-31\") & (df_sub[\"station_name\"] == \"72 ST\")][\"new_entries\"].mean()"
   ]
  },
  {
   "cell_type": "code",
   "execution_count": 29,
   "id": "c354c483-5066-4675-abfd-cd0a717c8c50",
   "metadata": {},
   "outputs": [
    {
     "data": {
      "text/plain": [
       "33.69"
      ]
     },
     "execution_count": 29,
     "metadata": {},
     "output_type": "execute_result"
    }
   ],
   "source": [
    "round(7681.193548387097 / 22800.636363636364 * 100, 2)"
   ]
  },
  {
   "cell_type": "code",
   "execution_count": 47,
   "id": "13addab0-cb11-4550-976c-d48bb7de3cbd",
   "metadata": {},
   "outputs": [
    {
     "data": {
      "text/plain": [
       "12637.161290322581"
      ]
     },
     "execution_count": 47,
     "metadata": {},
     "output_type": "execute_result"
    }
   ],
   "source": [
    "df_sub[(df_sub[\"date\"] >= \"2020-01-01\") & (df_sub[\"date\"] <= \"2020-01-31\") & (df_sub[\"station_name\"] == \"116 ST\")][\"new_entries\"].mean()"
   ]
  },
  {
   "cell_type": "code",
   "execution_count": 46,
   "id": "3ddc4ae1-a283-49bf-a7b8-75d7db3ae498",
   "metadata": {},
   "outputs": [
    {
     "data": {
      "text/plain": [
       "4416.612903225807"
      ]
     },
     "execution_count": 46,
     "metadata": {},
     "output_type": "execute_result"
    }
   ],
   "source": [
    "df_sub[(df_sub[\"date\"] >= \"2021-01-01\") & (df_sub[\"date\"] <= \"2021-01-31\") & (df_sub[\"station_name\"] == \"116 ST\")][\"new_entries\"].mean()"
   ]
  },
  {
   "cell_type": "code",
   "execution_count": 48,
   "id": "d50f7e84-73ae-4c40-9351-2cfa6c9f0647",
   "metadata": {},
   "outputs": [
    {
     "data": {
      "text/plain": [
       "34.95"
      ]
     },
     "execution_count": 48,
     "metadata": {},
     "output_type": "execute_result"
    }
   ],
   "source": [
    "round(4416.612903225807 / 12637.161290322581 * 100, 2)"
   ]
  }
 ],
 "metadata": {
  "kernelspec": {
   "display_name": "Python 3",
   "language": "python",
   "name": "python3"
  },
  "language_info": {
   "codemirror_mode": {
    "name": "ipython",
    "version": 3
   },
   "file_extension": ".py",
   "mimetype": "text/x-python",
   "name": "python",
   "nbconvert_exporter": "python",
   "pygments_lexer": "ipython3",
   "version": "3.8.8"
  }
 },
 "nbformat": 4,
 "nbformat_minor": 5
}
